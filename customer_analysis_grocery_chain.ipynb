{
  "nbformat": 4,
  "nbformat_minor": 0,
  "metadata": {
    "colab": {
      "provenance": [],
      "authorship_tag": "ABX9TyNWCykIEwrE4Y5EA5gP9aqq",
      "include_colab_link": true
    },
    "kernelspec": {
      "name": "python3",
      "display_name": "Python 3"
    },
    "language_info": {
      "name": "python"
    }
  },
  "cells": [
    {
      "cell_type": "markdown",
      "metadata": {
        "id": "view-in-github",
        "colab_type": "text"
      },
      "source": [
        "<a href=\"https://colab.research.google.com/github/KharchenkoAnastasia/customer_analysis_grocery_chain/blob/main/customer_analysis_grocery_chain.ipynb\" target=\"_parent\"><img src=\"https://colab.research.google.com/assets/colab-badge.svg\" alt=\"Open In Colab\"/></a>"
      ]
    },
    {
      "cell_type": "markdown",
      "source": [
        "# Analysis of customers of a chain of grocery stores"
      ],
      "metadata": {
        "id": "B8-GBU9mmki1"
      }
    },
    {
      "cell_type": "code",
      "execution_count": 1,
      "metadata": {
        "id": "jvS5HjxpmhA4"
      },
      "outputs": [],
      "source": [
        "import pandas as pd\n",
        "import seaborn as sns\n",
        "import matplotlib.pyplot as plt\n",
        "import numpy as np\n",
        "%matplotlib inline"
      ]
    },
    {
      "cell_type": "code",
      "source": [
        "# Define the path to the Excel file\n",
        "path_to_file = '/content/Grocery Database.xlsx'\n",
        "\n",
        "# Load the Excel file\n",
        "excel_file = pd.ExcelFile(path_to_file)\n",
        "\n",
        "# Retrieve and display the sheet names\n",
        "sheet_names = excel_file.sheet_names\n",
        "print(sheet_names)"
      ],
      "metadata": {
        "colab": {
          "base_uri": "https://localhost:8080/"
        },
        "id": "-nJ1ktu6ms0u",
        "outputId": "624c1202-23eb-4088-f784-fd23a250f7e5"
      },
      "execution_count": 2,
      "outputs": [
        {
          "output_type": "stream",
          "name": "stdout",
          "text": [
            "['Grosto DB', 'Fact Summary']\n"
          ]
        }
      ]
    },
    {
      "cell_type": "code",
      "source": [
        "# Parse the 'Fact Summary' sheet into a DataFrame\n",
        "fact_summary_df = excel_file.parse('Fact Summary')\n",
        "\n",
        "# Display the first few rows to verify the content\n",
        "fact_summary_df.head(20)"
      ],
      "metadata": {
        "colab": {
          "base_uri": "https://localhost:8080/",
          "height": 676
        },
        "id": "rTDOq9hTm7lT",
        "outputId": "31bc79c8-d659-48e3-a0c0-eb8ff14f297e"
      },
      "execution_count": 3,
      "outputs": [
        {
          "output_type": "execute_result",
          "data": {
            "text/plain": [
              "    S.No.          Column Name  \\\n",
              "0       1       Receipt Number   \n",
              "1       2                 Date   \n",
              "2       3                 Year   \n",
              "3       4                Month   \n",
              "4       5                 Time   \n",
              "5       6        Mobile Number   \n",
              "6       7        Membership ID   \n",
              "7       8  Loyalty Card Points   \n",
              "8       9                  Age   \n",
              "9      10               Gender   \n",
              "10     11                 City   \n",
              "11     12              Country   \n",
              "12     13             Category   \n",
              "13     14         Sub_Category   \n",
              "14     15                Items   \n",
              "15     16               Brand    \n",
              "16     17         Description    \n",
              "17     18                Price   \n",
              "18     19                  QTY   \n",
              "19     20                 DISC   \n",
              "\n",
              "                      Description of the Column names  \n",
              "0                                  Transaction Number  \n",
              "1                                 Date of Transaction  \n",
              "2                                 Year of Transaction  \n",
              "3                                Month of Transaction  \n",
              "4                             Time of the transaction  \n",
              "5                      Monbile number of the customer  \n",
              "6                Unique Membership ID of the Customer  \n",
              "7   Loyalty Points earned by customer (10 Points/1...  \n",
              "8         Age of the Customer in the Company Database  \n",
              "9                              Gender of the customer  \n",
              "10                                 City Name of store  \n",
              "11                              Country Name of store  \n",
              "12                Category of Item bought by customer  \n",
              "13            Sub-Category of Item bought by customer  \n",
              "14               Name if the item  bought by customer  \n",
              "15                           Brand of the Item bought  \n",
              "16  Description of the Item (weight/volume/pack si...  \n",
              "17                         Price per unit of the Item  \n",
              "18                    Quantity bought by the cistomer  \n",
              "19                          Discount offered by store  "
            ],
            "text/html": [
              "\n",
              "  <div id=\"df-6b7d0da6-0412-4357-a7b4-4ab572234588\" class=\"colab-df-container\">\n",
              "    <div>\n",
              "<style scoped>\n",
              "    .dataframe tbody tr th:only-of-type {\n",
              "        vertical-align: middle;\n",
              "    }\n",
              "\n",
              "    .dataframe tbody tr th {\n",
              "        vertical-align: top;\n",
              "    }\n",
              "\n",
              "    .dataframe thead th {\n",
              "        text-align: right;\n",
              "    }\n",
              "</style>\n",
              "<table border=\"1\" class=\"dataframe\">\n",
              "  <thead>\n",
              "    <tr style=\"text-align: right;\">\n",
              "      <th></th>\n",
              "      <th>S.No.</th>\n",
              "      <th>Column Name</th>\n",
              "      <th>Description of the Column names</th>\n",
              "    </tr>\n",
              "  </thead>\n",
              "  <tbody>\n",
              "    <tr>\n",
              "      <th>0</th>\n",
              "      <td>1</td>\n",
              "      <td>Receipt Number</td>\n",
              "      <td>Transaction Number</td>\n",
              "    </tr>\n",
              "    <tr>\n",
              "      <th>1</th>\n",
              "      <td>2</td>\n",
              "      <td>Date</td>\n",
              "      <td>Date of Transaction</td>\n",
              "    </tr>\n",
              "    <tr>\n",
              "      <th>2</th>\n",
              "      <td>3</td>\n",
              "      <td>Year</td>\n",
              "      <td>Year of Transaction</td>\n",
              "    </tr>\n",
              "    <tr>\n",
              "      <th>3</th>\n",
              "      <td>4</td>\n",
              "      <td>Month</td>\n",
              "      <td>Month of Transaction</td>\n",
              "    </tr>\n",
              "    <tr>\n",
              "      <th>4</th>\n",
              "      <td>5</td>\n",
              "      <td>Time</td>\n",
              "      <td>Time of the transaction</td>\n",
              "    </tr>\n",
              "    <tr>\n",
              "      <th>5</th>\n",
              "      <td>6</td>\n",
              "      <td>Mobile Number</td>\n",
              "      <td>Monbile number of the customer</td>\n",
              "    </tr>\n",
              "    <tr>\n",
              "      <th>6</th>\n",
              "      <td>7</td>\n",
              "      <td>Membership ID</td>\n",
              "      <td>Unique Membership ID of the Customer</td>\n",
              "    </tr>\n",
              "    <tr>\n",
              "      <th>7</th>\n",
              "      <td>8</td>\n",
              "      <td>Loyalty Card Points</td>\n",
              "      <td>Loyalty Points earned by customer (10 Points/1...</td>\n",
              "    </tr>\n",
              "    <tr>\n",
              "      <th>8</th>\n",
              "      <td>9</td>\n",
              "      <td>Age</td>\n",
              "      <td>Age of the Customer in the Company Database</td>\n",
              "    </tr>\n",
              "    <tr>\n",
              "      <th>9</th>\n",
              "      <td>10</td>\n",
              "      <td>Gender</td>\n",
              "      <td>Gender of the customer</td>\n",
              "    </tr>\n",
              "    <tr>\n",
              "      <th>10</th>\n",
              "      <td>11</td>\n",
              "      <td>City</td>\n",
              "      <td>City Name of store</td>\n",
              "    </tr>\n",
              "    <tr>\n",
              "      <th>11</th>\n",
              "      <td>12</td>\n",
              "      <td>Country</td>\n",
              "      <td>Country Name of store</td>\n",
              "    </tr>\n",
              "    <tr>\n",
              "      <th>12</th>\n",
              "      <td>13</td>\n",
              "      <td>Category</td>\n",
              "      <td>Category of Item bought by customer</td>\n",
              "    </tr>\n",
              "    <tr>\n",
              "      <th>13</th>\n",
              "      <td>14</td>\n",
              "      <td>Sub_Category</td>\n",
              "      <td>Sub-Category of Item bought by customer</td>\n",
              "    </tr>\n",
              "    <tr>\n",
              "      <th>14</th>\n",
              "      <td>15</td>\n",
              "      <td>Items</td>\n",
              "      <td>Name if the item  bought by customer</td>\n",
              "    </tr>\n",
              "    <tr>\n",
              "      <th>15</th>\n",
              "      <td>16</td>\n",
              "      <td>Brand</td>\n",
              "      <td>Brand of the Item bought</td>\n",
              "    </tr>\n",
              "    <tr>\n",
              "      <th>16</th>\n",
              "      <td>17</td>\n",
              "      <td>Description</td>\n",
              "      <td>Description of the Item (weight/volume/pack si...</td>\n",
              "    </tr>\n",
              "    <tr>\n",
              "      <th>17</th>\n",
              "      <td>18</td>\n",
              "      <td>Price</td>\n",
              "      <td>Price per unit of the Item</td>\n",
              "    </tr>\n",
              "    <tr>\n",
              "      <th>18</th>\n",
              "      <td>19</td>\n",
              "      <td>QTY</td>\n",
              "      <td>Quantity bought by the cistomer</td>\n",
              "    </tr>\n",
              "    <tr>\n",
              "      <th>19</th>\n",
              "      <td>20</td>\n",
              "      <td>DISC</td>\n",
              "      <td>Discount offered by store</td>\n",
              "    </tr>\n",
              "  </tbody>\n",
              "</table>\n",
              "</div>\n",
              "    <div class=\"colab-df-buttons\">\n",
              "\n",
              "  <div class=\"colab-df-container\">\n",
              "    <button class=\"colab-df-convert\" onclick=\"convertToInteractive('df-6b7d0da6-0412-4357-a7b4-4ab572234588')\"\n",
              "            title=\"Convert this dataframe to an interactive table.\"\n",
              "            style=\"display:none;\">\n",
              "\n",
              "  <svg xmlns=\"http://www.w3.org/2000/svg\" height=\"24px\" viewBox=\"0 -960 960 960\">\n",
              "    <path d=\"M120-120v-720h720v720H120Zm60-500h600v-160H180v160Zm220 220h160v-160H400v160Zm0 220h160v-160H400v160ZM180-400h160v-160H180v160Zm440 0h160v-160H620v160ZM180-180h160v-160H180v160Zm440 0h160v-160H620v160Z\"/>\n",
              "  </svg>\n",
              "    </button>\n",
              "\n",
              "  <style>\n",
              "    .colab-df-container {\n",
              "      display:flex;\n",
              "      gap: 12px;\n",
              "    }\n",
              "\n",
              "    .colab-df-convert {\n",
              "      background-color: #E8F0FE;\n",
              "      border: none;\n",
              "      border-radius: 50%;\n",
              "      cursor: pointer;\n",
              "      display: none;\n",
              "      fill: #1967D2;\n",
              "      height: 32px;\n",
              "      padding: 0 0 0 0;\n",
              "      width: 32px;\n",
              "    }\n",
              "\n",
              "    .colab-df-convert:hover {\n",
              "      background-color: #E2EBFA;\n",
              "      box-shadow: 0px 1px 2px rgba(60, 64, 67, 0.3), 0px 1px 3px 1px rgba(60, 64, 67, 0.15);\n",
              "      fill: #174EA6;\n",
              "    }\n",
              "\n",
              "    .colab-df-buttons div {\n",
              "      margin-bottom: 4px;\n",
              "    }\n",
              "\n",
              "    [theme=dark] .colab-df-convert {\n",
              "      background-color: #3B4455;\n",
              "      fill: #D2E3FC;\n",
              "    }\n",
              "\n",
              "    [theme=dark] .colab-df-convert:hover {\n",
              "      background-color: #434B5C;\n",
              "      box-shadow: 0px 1px 3px 1px rgba(0, 0, 0, 0.15);\n",
              "      filter: drop-shadow(0px 1px 2px rgba(0, 0, 0, 0.3));\n",
              "      fill: #FFFFFF;\n",
              "    }\n",
              "  </style>\n",
              "\n",
              "    <script>\n",
              "      const buttonEl =\n",
              "        document.querySelector('#df-6b7d0da6-0412-4357-a7b4-4ab572234588 button.colab-df-convert');\n",
              "      buttonEl.style.display =\n",
              "        google.colab.kernel.accessAllowed ? 'block' : 'none';\n",
              "\n",
              "      async function convertToInteractive(key) {\n",
              "        const element = document.querySelector('#df-6b7d0da6-0412-4357-a7b4-4ab572234588');\n",
              "        const dataTable =\n",
              "          await google.colab.kernel.invokeFunction('convertToInteractive',\n",
              "                                                    [key], {});\n",
              "        if (!dataTable) return;\n",
              "\n",
              "        const docLinkHtml = 'Like what you see? Visit the ' +\n",
              "          '<a target=\"_blank\" href=https://colab.research.google.com/notebooks/data_table.ipynb>data table notebook</a>'\n",
              "          + ' to learn more about interactive tables.';\n",
              "        element.innerHTML = '';\n",
              "        dataTable['output_type'] = 'display_data';\n",
              "        await google.colab.output.renderOutput(dataTable, element);\n",
              "        const docLink = document.createElement('div');\n",
              "        docLink.innerHTML = docLinkHtml;\n",
              "        element.appendChild(docLink);\n",
              "      }\n",
              "    </script>\n",
              "  </div>\n",
              "\n",
              "\n",
              "    <div id=\"df-8bb66dcb-5e94-4e2d-8e43-3366697f8b1a\">\n",
              "      <button class=\"colab-df-quickchart\" onclick=\"quickchart('df-8bb66dcb-5e94-4e2d-8e43-3366697f8b1a')\"\n",
              "                title=\"Suggest charts\"\n",
              "                style=\"display:none;\">\n",
              "\n",
              "<svg xmlns=\"http://www.w3.org/2000/svg\" height=\"24px\"viewBox=\"0 0 24 24\"\n",
              "     width=\"24px\">\n",
              "    <g>\n",
              "        <path d=\"M19 3H5c-1.1 0-2 .9-2 2v14c0 1.1.9 2 2 2h14c1.1 0 2-.9 2-2V5c0-1.1-.9-2-2-2zM9 17H7v-7h2v7zm4 0h-2V7h2v10zm4 0h-2v-4h2v4z\"/>\n",
              "    </g>\n",
              "</svg>\n",
              "      </button>\n",
              "\n",
              "<style>\n",
              "  .colab-df-quickchart {\n",
              "      --bg-color: #E8F0FE;\n",
              "      --fill-color: #1967D2;\n",
              "      --hover-bg-color: #E2EBFA;\n",
              "      --hover-fill-color: #174EA6;\n",
              "      --disabled-fill-color: #AAA;\n",
              "      --disabled-bg-color: #DDD;\n",
              "  }\n",
              "\n",
              "  [theme=dark] .colab-df-quickchart {\n",
              "      --bg-color: #3B4455;\n",
              "      --fill-color: #D2E3FC;\n",
              "      --hover-bg-color: #434B5C;\n",
              "      --hover-fill-color: #FFFFFF;\n",
              "      --disabled-bg-color: #3B4455;\n",
              "      --disabled-fill-color: #666;\n",
              "  }\n",
              "\n",
              "  .colab-df-quickchart {\n",
              "    background-color: var(--bg-color);\n",
              "    border: none;\n",
              "    border-radius: 50%;\n",
              "    cursor: pointer;\n",
              "    display: none;\n",
              "    fill: var(--fill-color);\n",
              "    height: 32px;\n",
              "    padding: 0;\n",
              "    width: 32px;\n",
              "  }\n",
              "\n",
              "  .colab-df-quickchart:hover {\n",
              "    background-color: var(--hover-bg-color);\n",
              "    box-shadow: 0 1px 2px rgba(60, 64, 67, 0.3), 0 1px 3px 1px rgba(60, 64, 67, 0.15);\n",
              "    fill: var(--button-hover-fill-color);\n",
              "  }\n",
              "\n",
              "  .colab-df-quickchart-complete:disabled,\n",
              "  .colab-df-quickchart-complete:disabled:hover {\n",
              "    background-color: var(--disabled-bg-color);\n",
              "    fill: var(--disabled-fill-color);\n",
              "    box-shadow: none;\n",
              "  }\n",
              "\n",
              "  .colab-df-spinner {\n",
              "    border: 2px solid var(--fill-color);\n",
              "    border-color: transparent;\n",
              "    border-bottom-color: var(--fill-color);\n",
              "    animation:\n",
              "      spin 1s steps(1) infinite;\n",
              "  }\n",
              "\n",
              "  @keyframes spin {\n",
              "    0% {\n",
              "      border-color: transparent;\n",
              "      border-bottom-color: var(--fill-color);\n",
              "      border-left-color: var(--fill-color);\n",
              "    }\n",
              "    20% {\n",
              "      border-color: transparent;\n",
              "      border-left-color: var(--fill-color);\n",
              "      border-top-color: var(--fill-color);\n",
              "    }\n",
              "    30% {\n",
              "      border-color: transparent;\n",
              "      border-left-color: var(--fill-color);\n",
              "      border-top-color: var(--fill-color);\n",
              "      border-right-color: var(--fill-color);\n",
              "    }\n",
              "    40% {\n",
              "      border-color: transparent;\n",
              "      border-right-color: var(--fill-color);\n",
              "      border-top-color: var(--fill-color);\n",
              "    }\n",
              "    60% {\n",
              "      border-color: transparent;\n",
              "      border-right-color: var(--fill-color);\n",
              "    }\n",
              "    80% {\n",
              "      border-color: transparent;\n",
              "      border-right-color: var(--fill-color);\n",
              "      border-bottom-color: var(--fill-color);\n",
              "    }\n",
              "    90% {\n",
              "      border-color: transparent;\n",
              "      border-bottom-color: var(--fill-color);\n",
              "    }\n",
              "  }\n",
              "</style>\n",
              "\n",
              "      <script>\n",
              "        async function quickchart(key) {\n",
              "          const quickchartButtonEl =\n",
              "            document.querySelector('#' + key + ' button');\n",
              "          quickchartButtonEl.disabled = true;  // To prevent multiple clicks.\n",
              "          quickchartButtonEl.classList.add('colab-df-spinner');\n",
              "          try {\n",
              "            const charts = await google.colab.kernel.invokeFunction(\n",
              "                'suggestCharts', [key], {});\n",
              "          } catch (error) {\n",
              "            console.error('Error during call to suggestCharts:', error);\n",
              "          }\n",
              "          quickchartButtonEl.classList.remove('colab-df-spinner');\n",
              "          quickchartButtonEl.classList.add('colab-df-quickchart-complete');\n",
              "        }\n",
              "        (() => {\n",
              "          let quickchartButtonEl =\n",
              "            document.querySelector('#df-8bb66dcb-5e94-4e2d-8e43-3366697f8b1a button');\n",
              "          quickchartButtonEl.style.display =\n",
              "            google.colab.kernel.accessAllowed ? 'block' : 'none';\n",
              "        })();\n",
              "      </script>\n",
              "    </div>\n",
              "    </div>\n",
              "  </div>\n"
            ],
            "application/vnd.google.colaboratory.intrinsic+json": {
              "type": "dataframe",
              "variable_name": "fact_summary_df",
              "summary": "{\n  \"name\": \"fact_summary_df\",\n  \"rows\": 31,\n  \"fields\": [\n    {\n      \"column\": \"S.No.\",\n      \"properties\": {\n        \"dtype\": \"number\",\n        \"std\": 9,\n        \"min\": 1,\n        \"max\": 31,\n        \"num_unique_values\": 31,\n        \"samples\": [\n          28,\n          16,\n          24\n        ],\n        \"semantic_type\": \"\",\n        \"description\": \"\"\n      }\n    },\n    {\n      \"column\": \"Column Name\",\n      \"properties\": {\n        \"dtype\": \"string\",\n        \"num_unique_values\": 31,\n        \"samples\": [\n          \"% Product Cost\",\n          \"Brand \",\n          \"Payment Mode\"\n        ],\n        \"semantic_type\": \"\",\n        \"description\": \"\"\n      }\n    },\n    {\n      \"column\": \"Description of the Column names\",\n      \"properties\": {\n        \"dtype\": \"string\",\n        \"num_unique_values\": 31,\n        \"samples\": [\n          \"Percentage product cost to store\",\n          \"Brand of the Item bought\",\n          \"Mode of payment opted by customer\"\n        ],\n        \"semantic_type\": \"\",\n        \"description\": \"\"\n      }\n    }\n  ]\n}"
            }
          },
          "metadata": {},
          "execution_count": 3
        }
      ]
    },
    {
      "cell_type": "markdown",
      "source": [],
      "metadata": {
        "id": "XNhreM4QL6hv"
      }
    },
    {
      "cell_type": "code",
      "source": [
        "# Read the Excel file into a DataFrame and display the first 10 rows\n",
        "df = pd.read_excel(path_to_file)\n",
        "print(df.head(5))"
      ],
      "metadata": {
        "id": "np9AVvaguMVe"
      },
      "execution_count": null,
      "outputs": []
    },
    {
      "cell_type": "code",
      "source": [
        "print(f\"The dataset contains {df.shape[0]} rows and {df.shape[1]} columns.\")"
      ],
      "metadata": {
        "id": "X7Z_6ZbtuU5D"
      },
      "execution_count": null,
      "outputs": []
    },
    {
      "cell_type": "code",
      "source": [
        "# Display a concise summary of the dataset, showing column data types, non-null counts, and memory usage\n",
        "df.info()"
      ],
      "metadata": {
        "id": "5kfzMVoe0iMr"
      },
      "execution_count": null,
      "outputs": []
    },
    {
      "cell_type": "markdown",
      "source": [
        "\n",
        "\n",
        "> There are no missing values ​​in the dataframe.\n",
        "\n"
      ],
      "metadata": {
        "id": "4qrv35t702Z-"
      }
    },
    {
      "cell_type": "code",
      "source": [
        "# Group the data by 'Membership ID' and calculate the count of each membership\n",
        "df.groupby(\"Membership ID\").size()"
      ],
      "metadata": {
        "id": "-rcUkC8cutrB"
      },
      "execution_count": null,
      "outputs": []
    },
    {
      "cell_type": "markdown",
      "source": [
        "### **What is the distribution of customer purchases over the years?**"
      ],
      "metadata": {
        "id": "UqCft76wvqUV"
      }
    },
    {
      "cell_type": "code",
      "source": [
        "# Create a cross-tabulation to analyze the frequency of 'Membership ID' across different years\n",
        "pd.crosstab(df['Year'], df['Membership ID'])"
      ],
      "metadata": {
        "id": "UIGjaJtjy0Br"
      },
      "execution_count": null,
      "outputs": []
    },
    {
      "cell_type": "markdown",
      "source": [
        "  \n",
        "\n",
        "> In total, the data frame contains data on 2,601 unique customers for the period 2016-2019. Accordingly, there are old and new customers who have different shopping experiences in the studied chain of stores.\n",
        "\n"
      ],
      "metadata": {
        "id": "PqAFryW-0K1o"
      }
    },
    {
      "cell_type": "markdown",
      "source": [
        "### **Does the structure of customer spending in the studied retail chain differ in the two reference years - 2016 and 2019?**"
      ],
      "metadata": {
        "id": "UVKdWuyev19a"
      }
    },
    {
      "cell_type": "code",
      "source": [
        "# Calculate the total amount including GST, group by Category and Year, and round the result\n",
        "df_result = (\n",
        "    df\n",
        "    .assign(sum_amount_with_gst=df[\"Amount\"] * (1 + df[\"GST\"]))\n",
        "    .groupby([\"Category\", \"Year\"], as_index=False)\n",
        "    .agg(total_sum_amount=(\"sum_amount_with_gst\", \"sum\"))\n",
        "    .assign(total_sum_amount=lambda x: x[\"total_sum_amount\"].round(2))\n",
        ")\n",
        "\n",
        "print(df_result)"
      ],
      "metadata": {
        "id": "x6uZ5KRX4IJJ"
      },
      "execution_count": null,
      "outputs": []
    },
    {
      "cell_type": "code",
      "source": [
        "# Create a point plot to visualize total amount by category and year\n",
        "plt.figure(figsize=(10, 6))\n",
        "\n",
        "sns.pointplot(\n",
        "    data=df_result.sort_values(by=\"total_sum_amount\"),\n",
        "    x=\"Category\",\n",
        "    y=\"total_sum_amount\",\n",
        "    hue=\"Year\",\n",
        "    linestyles=\"-\"\n",
        ")\n",
        "\n",
        "plt.xticks(rotation=90)\n",
        "plt.title(\"Total Amount by Category and Year\")\n",
        "\n",
        "plt.tight_layout()\n",
        "plt.show()\n"
      ],
      "metadata": {
        "id": "5Yf4U0Hq43sJ"
      },
      "execution_count": null,
      "outputs": []
    },
    {
      "cell_type": "markdown",
      "source": [
        "\n",
        "\n",
        "> From the 'Total Amount by Category and Year' graph, we observe that the customer spending structure remained remarkably stable between 2016 and 2019. The TOP-3 product categories in terms of spending—'Beauty,' 'Frozen,' and 'Bakery & Breakfast'—retained their leadership positions, while the TOP-3 lowest-spending categories—'Kitchen & Dining,' 'Rice & Cooking Essentials,' and 'Party Supplies'—also remained unchanged.Despite this stability, there was a significant increase in customer spending across all categories during this period. For example, the 'Beauty' category saw a notable growth of 60.94%, and 'Frozen' increased by 50.93%%. This upward trend reflects the effectiveness of the marketing department and the success of the management’s product strategy in driving overall sales growth.\n",
        "\n"
      ],
      "metadata": {
        "id": "KB37qdS8O9fq"
      }
    },
    {
      "cell_type": "markdown",
      "source": [
        "### **Does the number of transactions and the average check size depend on the age (including different genders) of the client?**"
      ],
      "metadata": {
        "id": "vzQxzHsiFYZI"
      }
    },
    {
      "cell_type": "code",
      "source": [
        "# Group by client identifier, gender, and age to calculate metrics\n",
        "avg_bill_by_client = df.groupby([\"Membership ID\", \"Age\", \"Gender\"]).agg(\n",
        "    total_gross_bill=(\"Gross Bill Amount\", \"sum\"),\n",
        "    transaction_count=(\"Receipt Number\", \"count\")\n",
        ").reset_index()\n",
        "\n",
        "# Calculate average bill per client\n",
        "avg_bill_by_client[\"average_bill\"] = (\n",
        "    avg_bill_by_client[\"total_gross_bill\"] / avg_bill_by_client[\"transaction_count\"]\n",
        ")\n",
        "\n",
        "# Split data by gender\n",
        "women_df = avg_bill_by_client[avg_bill_by_client[\"Gender\"] == \"Female\"]\n",
        "men_df = avg_bill_by_client[avg_bill_by_client[\"Gender\"] == \"Male\"]"
      ],
      "metadata": {
        "id": "oE5stV8HU-y7"
      },
      "execution_count": null,
      "outputs": []
    },
    {
      "cell_type": "code",
      "source": [
        "# Function to calculate correlation matrix and plot heatmap\n",
        "def plot_correlation_heatmap(dataframe, title):\n",
        "    \"\"\"\n",
        "    Plots a correlation heatmap for the given dataframe.\n",
        "\n",
        "    Parameters:\n",
        "    dataframe (pd.DataFrame): The input dataframe containing numeric columns.\n",
        "    title (str): Title of the heatmap.\n",
        "    \"\"\"\n",
        "    correlation_matrix = dataframe.corr()\n",
        "\n",
        "    # Create a mask for the upper triangle\n",
        "    mask = np.triu(np.ones_like(correlation_matrix, dtype=bool))\n",
        "\n",
        "    # Create the heatmap\n",
        "    plt.figure(figsize=(9, 3))\n",
        "    sns.heatmap(\n",
        "        correlation_matrix,\n",
        "        annot=True,\n",
        "        linewidths=0.8,\n",
        "        mask=mask,\n",
        "        cmap=\"YlGnBu\",\n",
        "        vmin=-1,\n",
        "        vmax=1\n",
        "    )\n",
        "    plt.title(title)\n",
        "    plt.yticks(rotation=0)\n",
        "    plt.xticks(rotation=0)\n",
        "    plt.tight_layout()\n",
        "    plt.show()\n",
        "\n",
        "# Plot correlation heatmaps\n",
        "plot_correlation_heatmap(\n",
        "    avg_bill_by_client[[\"Age\", \"transaction_count\", \"average_bill\"]],\n",
        "    \"Correlation Matrix for Client Metrics\"\n",
        ")\n",
        "\n",
        "plot_correlation_heatmap(\n",
        "    women_df[[\"Age\", \"transaction_count\", \"average_bill\"]],\n",
        "    \"Correlation Matrix for Women Clients\"\n",
        ")\n",
        "\n",
        "plot_correlation_heatmap(\n",
        "    men_df[[\"Age\", \"transaction_count\", \"average_bill\"]],\n",
        "    \"Correlation Matrix for Men Clients\"\n",
        ")\n"
      ],
      "metadata": {
        "id": "-iC9zlFHFXxD"
      },
      "execution_count": null,
      "outputs": []
    },
    {
      "cell_type": "markdown",
      "source": [
        "\n",
        "\n",
        "> From the 'Correlation Matrix for Client Metrics' graph, we observe that the correlation coefficients r(Age, transaction_count) = -0.032 and r(Age, average_bill) = -0.0033 are near-zero, indicating no significant linear relationship between age and either the number of transactions or the average bill size. A similar pattern is observed in gender-specific analyses ('Correlation Matrix for Female Customers' and 'Correlation Matrix for Male Customers'), where 'Age', 'average_bill', and 'transaction_count' show negligible correlations. This consistent lack of correlation suggests that the stores cater effectively to the diverse needs of all age groups through a well-coordinated operation and a broad product range that appeals equally across demographics.\n",
        "\n"
      ],
      "metadata": {
        "id": "e8C7sVdiJLeZ"
      }
    },
    {
      "cell_type": "markdown",
      "source": [
        "### What is the distribution of average bills by gender?"
      ],
      "metadata": {
        "id": "Od7uF_sKas8-"
      }
    },
    {
      "cell_type": "code",
      "source": [
        "plt.figure(figsize=(10, 6))\n",
        "\n",
        "sns.violinplot(y=\"Gender\", x=\"average_bill\", data=avg_bill_by_client,\n",
        "               inner=None, hue=\"Gender\", palette='Pastel1', legend=False)\n",
        "\n",
        "sns.swarmplot(data=avg_bill_by_client, x=\"average_bill\", y=\"Gender\", size=1)\n",
        "\n",
        "plt.title('Distribution of Average Bills by Gender')\n",
        "plt.ylabel(\"Gender\")\n",
        "plt.xlabel(\"Average bill\")\n",
        "plt.show()"
      ],
      "metadata": {
        "id": "XIp_eUgFWRtR"
      },
      "execution_count": null,
      "outputs": []
    },
    {
      "cell_type": "markdown",
      "source": [
        "\n",
        "\n",
        "\n",
        "> The graph of the distribution of average check size shows that both genders have a roughly similar distribution, characterized by a main peak and a right-skewed tail. The distributions appear somewhat bimodal, with one group concentrated at lower bill amounts and another at moderate spending levels. These slight differences in spending patterns may indicate varying purchasing behaviors or product preferences, warranting further investigation.\n",
        "\n",
        "\n",
        "\n"
      ],
      "metadata": {
        "id": "Yvhlly7LfH38"
      }
    },
    {
      "cell_type": "markdown",
      "source": [
        "### **Buyers of which gender have the highest average check in different cities?**"
      ],
      "metadata": {
        "id": "ZoOLqTmL9qZV"
      }
    },
    {
      "cell_type": "code",
      "source": [
        "# Create a pivot table that shows MEAN of Gross Bill Amount by City and Gender\n",
        "gender_city_sales = pd.pivot_table(\n",
        "    data=df,\n",
        "    index='City',\n",
        "    columns='Gender',\n",
        "    values='Gross Bill Amount',\n",
        "    aggfunc='mean'\n",
        ").round(2)\n",
        "\n",
        "# Apply the background gradient styling\n",
        "gender_city_sales.style.background_gradient(axis=1)"
      ],
      "metadata": {
        "id": "ghBuQYF6-B1A"
      },
      "execution_count": null,
      "outputs": []
    },
    {
      "cell_type": "markdown",
      "source": [
        "\n",
        "\n",
        "> From the Table, it can be seen that in the vast majority of cities, the average check for women is higher. These findings suggest that marketing campaigns should target female shoppers in most cities, while targeted efforts to male shoppers in Jakarta could help increase engagement and spending.\n",
        "\n"
      ],
      "metadata": {
        "id": "sSovlFcJVpHd"
      }
    },
    {
      "cell_type": "markdown",
      "source": [
        "### **Let's check who shops more often, men or women**"
      ],
      "metadata": {
        "id": "TSHJFeyFYXZf"
      }
    },
    {
      "cell_type": "code",
      "source": [
        "# Group by City and Gender to count transactions\n",
        "city_gender_counts = df.groupby(['City', 'Gender'])['Receipt Number'].nunique().unstack(fill_value=0)\n",
        "\n",
        "# Apply the background gradient styling\n",
        "city_gender_counts.style.background_gradient(axis=1)"
      ],
      "metadata": {
        "id": "HTN1f-DL5Xv4"
      },
      "execution_count": null,
      "outputs": []
    },
    {
      "cell_type": "markdown",
      "source": [
        "\n",
        "\n",
        "> The table shows that women visit stores significantly more often than men across all cities. This trend is consistent across all cities, with the starkest difference observed in Woodlands, where only 68 visits from men were recorded compared to 1,467 visits from women. These findings suggest that women are the primary in-store customers, potentially due to differences in shopping habits or stronger alignment of the store's offerings with their preferences. Businesses could leverage this insight by tailoring marketing and promotional strategies to further engage female customers.\"\n",
        "\n"
      ],
      "metadata": {
        "id": "NTYdBbHSbrpD"
      }
    },
    {
      "cell_type": "markdown",
      "source": [
        "### **What is the distribution of transactions by gender?**"
      ],
      "metadata": {
        "id": "MQ9wjHm2gx3r"
      }
    },
    {
      "cell_type": "code",
      "source": [
        "plt.figure(figsize=(10, 6))\n",
        "\n",
        "sns.violinplot(y=\"Gender\", x=\"transaction_count\", data=avg_bill_by_client,\n",
        "               inner=None, hue=\"Gender\", palette='Pastel1', legend=False)\n",
        "\n",
        "sns.swarmplot(data=avg_bill_by_client, x=\"transaction_count\", y=\"Gender\", size=1)\n",
        "\n",
        "plt.title('Distribution of Transaction Counts by Gender')\n",
        "plt.ylabel(\"Gender\")\n",
        "plt.xlabel(\"Transaction count\")\n",
        "plt.show()"
      ],
      "metadata": {
        "id": "TTdqWXG-gyQI"
      },
      "execution_count": null,
      "outputs": []
    },
    {
      "cell_type": "markdown",
      "source": [
        "\n",
        "\n",
        "> The plot shows that females constitute a larger portion of moderate-frequency shoppers, whereas males include a smaller but notable group of high-frequency shoppers.\n",
        "\n",
        "> For Females: Leverage their dominance in the moderate-frequency shopper group by introducing loyalty programs or promotions, such as discounts after a certain number of purchases, to boost transaction counts and encourage repeat visits.\n",
        "\n",
        "> For Males: Focus on retaining high-frequency 'super shoppers' by offering exclusive perks, such as premium memberships or bulk discounts, to maximize their loyalty and spending.\n",
        "\n"
      ],
      "metadata": {
        "id": "x95PWmneho9c"
      }
    },
    {
      "cell_type": "markdown",
      "source": [
        "**Let's analyze which customers of which gender and age group bring the most profit**"
      ],
      "metadata": {
        "id": "t2kosJucqXp5"
      }
    },
    {
      "cell_type": "code",
      "source": [
        "# Add age grouping\n",
        "# Create age bins dynamically based on the min and max age\n",
        "age_bins = range(df[\"Age\"].min()// 10 * 10, (df[\"Age\"].max() // 10 + 1) * 10 + 1, 10)\n",
        "age_labels = [f\"{i}-{i+9}\" for i in age_bins[:-1]]\n",
        "df['Age Group'] = pd.cut(df['Age'], bins=age_bins, right=False, labels=age_labels)\n",
        "\n",
        "# Group by 'Age Group' and 'Gender'\n",
        "grouped_data = df.groupby(['Age Group', 'Gender'], observed=True)['Profit Margin'].sum().reset_index()\n",
        "\n",
        "plt.figure(figsize=(10, 6))\n",
        "sns.pointplot(data=grouped_data, x='Age Group', y='Profit Margin', hue='Gender', dodge=True)\n",
        "\n",
        "plt.title('Sum of Profit Margin by Age Group and Gender')\n",
        "plt.xlabel('Age Group')\n",
        "plt.ylabel('Sum of Profit Margin')\n",
        "plt.legend(title='Gender')\n",
        "plt.grid(axis='y', linestyle='--', alpha=0.7)\n",
        "\n",
        "plt.show()"
      ],
      "metadata": {
        "id": "7rzOYaonxtHL"
      },
      "execution_count": null,
      "outputs": []
    },
    {
      "cell_type": "markdown",
      "source": [
        "\n",
        "\n",
        "> The graph shows that women generate significantly more profit for stores compared to men, with the average bill for women being consistently higher. This could be due to women either purchasing higher-margin products, visiting stores more frequently, or a combination of both.\n",
        "Additionally, women aged 20 to 49 contribute the most profit, likely due to their shopping habits and product preferences. These insights highlight the importance of tailoring marketing campaigns and product offerings to this demographic to further enhance profitability.\n",
        "\n"
      ],
      "metadata": {
        "id": "TkXhb1836Ods"
      }
    },
    {
      "cell_type": "markdown",
      "source": [
        "###  Which countries and cities give the most profit?"
      ],
      "metadata": {
        "id": "fbCVXnO3L0DD"
      }
    },
    {
      "cell_type": "code",
      "source": [
        "# Group by 'Country' and 'City', calculate the sum of 'Profit Margin'\n",
        "df.groupby(['Country', 'City'])['Profit Margin'].sum().sort_values(ascending=False)"
      ],
      "metadata": {
        "id": "BsFs1kBfK1Lc"
      },
      "execution_count": null,
      "outputs": []
    },
    {
      "cell_type": "markdown",
      "source": [
        "\n",
        "\n",
        "> Most profitable countries are Singapore and the Philippines. The cities of Bedok and Manila are the most profitable.\n",
        "\n"
      ],
      "metadata": {
        "id": "ZC9JTC3LLrwe"
      }
    },
    {
      "cell_type": "markdown",
      "source": [
        "### **Is the profit growing dynamically in each of the countries of sale?**"
      ],
      "metadata": {
        "id": "UTPNrc2IcILW"
      }
    },
    {
      "cell_type": "code",
      "source": [
        "# Calculate profit growth by country and year\n",
        "profit_growth_by_country =df.groupby(['Year', 'Country'])['Profit Margin'].sum().reset_index()\n",
        "\n",
        "plt.figure(figsize=(10, 6))\n",
        "sns.pointplot(data=profit_growth_by_country , x='Year', y='Profit Margin', hue='Country')\n",
        "\n",
        "plt.title('Profit Margin by Country Over Time')\n",
        "plt.xticks(rotation=45)\n",
        "plt.grid(True, linestyle='--', alpha=0.7)\n",
        "plt.tight_layout()\n",
        "\n",
        "plt.show()"
      ],
      "metadata": {
        "id": "0kMU3JUUcLMg"
      },
      "execution_count": null,
      "outputs": []
    },
    {
      "cell_type": "markdown",
      "source": [
        "\n",
        "\n",
        "> From the \"Profit Margin by Country Over Time\" chart you can see that each country shows an increase in profit over time.\n",
        "\n"
      ],
      "metadata": {
        "id": "HcCbkdiTFCWY"
      }
    },
    {
      "cell_type": "markdown",
      "source": [
        "### **Is there seasonality in sales?**"
      ],
      "metadata": {
        "id": "9-LgXRPhcvki"
      }
    },
    {
      "cell_type": "code",
      "source": [
        "import calendar\n",
        "\n",
        "# Aggregate monthly sales (using Gross Bill Amount as the sales metric)\n",
        "monthly_sales = df.groupby(['Year', 'Month'])['Gross Bill Amount'].sum().reset_index()\n",
        "\n",
        "# Convert month numbers to abbreviated names (Jan, Feb, etc.)\n",
        "monthly_sales['Month'] = monthly_sales['Month'].apply(lambda x: calendar.month_abbr[x])\n",
        "\n",
        "plt.figure(figsize=(10, 6))\n",
        "sns.pointplot(data=monthly_sales, x='Month', y='Gross Bill Amount', hue='Year', dodge=True)\n",
        "\n",
        "plt.title('Monthly Sales Trends by Year', fontsize=16)\n",
        "plt.xlabel('Month', fontsize=14)\n",
        "plt.ylabel('Total Sales (Gross Bill Amount)', fontsize=14)\n",
        "plt.grid(True, linestyle='--', alpha=0.7)\n",
        "plt.legend(title='Year')\n",
        "plt.tight_layout()\n",
        "plt.show()\n"
      ],
      "metadata": {
        "id": "JLA_-PlwfIxf"
      },
      "execution_count": null,
      "outputs": []
    },
    {
      "cell_type": "markdown",
      "source": [
        "\n",
        "\n",
        "> The graph shows a consistent increase in sales every December, likely driven by preparations for the New Year and Christmas holidays. To capitalize on this trend, we recommend initiating targeted advertising campaigns from late November and ensuring sufficient stock levels to meet the anticipated surge in demand.\n",
        "\n"
      ],
      "metadata": {
        "id": "pXYZuS39iEHM"
      }
    },
    {
      "cell_type": "markdown",
      "source": [
        "### **What time of day is the most shopping done?**"
      ],
      "metadata": {
        "id": "coRcjZj-bal8"
      }
    },
    {
      "cell_type": "code",
      "source": [
        "# Extract the hour from your Time column\n",
        "df['Hour'] = (df['Time'] * 24).astype(int)\n",
        "\n",
        "# Count unique purchases (transactions) by hour\n",
        "hourly_purchases=df.groupby(\"Hour\")['Receipt Number'].nunique().reset_index()\n",
        "hourly_purchases.columns=['Hour', 'Number of Unique Receipts']\n",
        "\n",
        "plt.figure(figsize=(10, 6))\n",
        "sns.lineplot(x='Hour', y='Number of Unique Receipts', data=hourly_purchases, marker='o', color='darkred')\n",
        "plt.title('Distribution of Unique Receipts by Hour', fontsize=14)\n",
        "plt.xlabel('Hour of Day', fontsize=12)\n",
        "plt.ylabel('Number of Unique Receipts', fontsize=12)\n",
        "plt.grid(True, linestyle='--', alpha=0.7)\n",
        "plt.show()"
      ],
      "metadata": {
        "id": "dpxQlSBXd_SZ"
      },
      "execution_count": null,
      "outputs": []
    },
    {
      "cell_type": "markdown",
      "source": [
        "\n",
        "\n",
        "> The graph indicates that the highest number of purchases occurs at 1:00 p.m. (1,153 receipts) and 8:00 p.m. (1,154 receipts). These peaks are likely associated with the lunch break and the end of the work shift, respectively. This pattern suggests that these time periods represent optimal opportunities for targeted promotions or stocking high-demand items.\n",
        "\n"
      ],
      "metadata": {
        "id": "BPYE8vWRkg9B"
      }
    },
    {
      "cell_type": "markdown",
      "source": [
        "### **What is the most profitable product category?**"
      ],
      "metadata": {
        "id": "Up4JUGbZw7B0"
      }
    },
    {
      "cell_type": "code",
      "source": [
        "# Group by 'Category' and sum the 'Profit Margin'\n",
        "profit_by_category = df.groupby('Category')[\"Profit Margin\"].sum().round(2).reset_index()\n",
        "\n",
        "# Sort by total profit in descending order\n",
        "profit_by_category=profit_by_category.sort_values(by='Profit Margin')\n",
        "\n",
        "plt.figure(figsize=(10, 6))\n",
        "plt.barh(profit_by_category['Category'], profit_by_category['Profit Margin'],  edgecolor='black')\n",
        "plt.xlabel('Total Profit Margin')\n",
        "plt.ylabel('Category')\n",
        "plt.title('Histogram of Total Profit Margin by Category')\n",
        "plt.grid(axis=\"x\", linestyle='--', alpha=0.7)\n",
        "plt.show()"
      ],
      "metadata": {
        "id": "tn6WcvOSgFfq"
      },
      "execution_count": null,
      "outputs": []
    },
    {
      "cell_type": "markdown",
      "source": [
        "\n",
        "\n",
        "> The graph indicates that the most profitable product category is \"Frozen\". This suggests that frozen goods play a significant role in driving overall profitability. Businesses could consider further promoting this category, expanding the product range, or analyzing customer preferences to sustain and enhance its profitability.\n",
        "\n"
      ],
      "metadata": {
        "id": "XNOAKPOqyp73"
      }
    },
    {
      "cell_type": "code",
      "source": [
        "plt.figure(figsize=(10, 10))\n",
        "\n",
        "plt.pie(\n",
        "    profit_by_category['Profit Margin'],\n",
        "    labels=profit_by_category['Category'],\n",
        "    autopct='%1.1f%%',\n",
        "    startangle=140,\n",
        "    colors=plt.cm.tab20.colors\n",
        ")\n",
        "\n",
        "plt.title('Profit Distribution by Product Category', fontsize=16)\n",
        "plt.tight_layout()\n",
        "plt.show()"
      ],
      "metadata": {
        "id": "wz5zTlPfHcyE"
      },
      "execution_count": null,
      "outputs": []
    },
    {
      "cell_type": "markdown",
      "source": [
        "\n",
        "\n",
        "> \"The 'Profit Distribution by Product Category\" pie chart shows that the largest shares of profit come from the \"Frozen\", \"Beauty\" and \"Bakery & Breakfast\" categories. These categories are critical drivers of profitability, suggesting that focused strategies, such as targeted promotions, inventory optimization, or expanded offerings in these segments, could further enhance overall revenue.\n",
        "\n"
      ],
      "metadata": {
        "id": "gglojGDWMZry"
      }
    },
    {
      "cell_type": "markdown",
      "source": [
        "### **What is the most profitable subcategory within the most profitable category?**"
      ],
      "metadata": {
        "id": "Yfgycf-YPlgh"
      }
    },
    {
      "cell_type": "code",
      "source": [
        "# Group by 'Sub_Category' and sum the 'Profit Margin'\n",
        "profit_by_subcategory = df[df['Category']==\"Frozen\"].groupby('Sub_Category')[\"Profit Margin\"].sum().round(2).reset_index()\n",
        "\n",
        "# Sort by total profit in descending order\n",
        "profit_by_subcategory=profit_by_subcategory.sort_values(by='Profit Margin')\n",
        "\n",
        "plt.figure(figsize=(10, 6))\n",
        "plt.barh(profit_by_subcategory['Sub_Category'], profit_by_subcategory['Profit Margin'],  edgecolor='black')\n",
        "plt.xlabel('Total Profit Margin')\n",
        "plt.ylabel('SubCategory')\n",
        "plt.title('Histogram of Total Profit Margin by Subcategory')\n",
        "plt.grid(axis=\"x\", linestyle='--', alpha=0.7)\n",
        "plt.show()"
      ],
      "metadata": {
        "id": "eRnUKM7APolw"
      },
      "execution_count": null,
      "outputs": []
    },
    {
      "cell_type": "markdown",
      "source": [
        "\n",
        "\n",
        "> The graph indicates that the most profitable subcategory of products is Frozen Seafood. Therefore, it is important to always have products of this category in stock.\n",
        "\n"
      ],
      "metadata": {
        "id": "wdC63SdUSQxF"
      }
    },
    {
      "cell_type": "markdown",
      "source": [
        "### **What payment method do buyers in different countries?**"
      ],
      "metadata": {
        "id": "TzhNR6hmkAA2"
      }
    },
    {
      "cell_type": "code",
      "source": [
        "# Group data by Country and Payment Mode, and count receipts\n",
        "payment_by_country = df.groupby(['Country', 'Payment Mode']).size().reset_index(name='Count')\n",
        "\n",
        "# Calculate percentage within each country\n",
        "country_totals = payment_by_country.groupby('Country')['Count'].transform('sum')\n",
        "payment_by_country['Percentage'] = (payment_by_country['Count'] / country_totals) * 100\n",
        "\n",
        "pivot_data = payment_by_country.pivot(index='Country', columns='Payment Mode', values='Percentage')\n",
        "\n",
        "plt.figure(figsize=(12, 8))\n",
        "ax = pivot_data.plot(kind='bar', stacked=True, figsize=(12, 8))\n",
        "plt.title('Payment Methods by Country', fontsize=16)\n",
        "plt.xlabel('Country', fontsize=14)\n",
        "plt.ylabel('Percentage (%)', fontsize=14)\n",
        "plt.xticks(rotation=45, ha='right')\n",
        "plt.legend(title='Payment Mode', title_fontsize=12)\n",
        "\n",
        "for container in ax.containers:\n",
        "    ax.bar_label(container, labels=[f'{v:.1f}%' if v > 5 else '' for v in container.datavalues],\n",
        "                 label_type='center')\n",
        "\n",
        "plt.tight_layout()\n",
        "plt.show()\n"
      ],
      "metadata": {
        "id": "2pUobZ35fvFE"
      },
      "execution_count": null,
      "outputs": []
    },
    {
      "cell_type": "markdown",
      "source": [
        "\n",
        "> The graph highlights payment preferences by country:\n",
        "*   Indonesia: Strongest preference for cash (35.25%) with the lowest card usage (31.52%)\n",
        "*   Malaysia: Highest card adoption (35.98%) with lowest cash usage (29.05%)\n",
        "*   Philippines: Strongest cash preference (34.43%) with balanced card usage (33.81%)\n",
        "*   Singapore: Most balanced distribution across all payment methods (34.18% card, 32.04% cash, 33.78% wallet)\n",
        "\n",
        "\n",
        "\n",
        "\n",
        "\n",
        "\n",
        "\n"
      ],
      "metadata": {
        "id": "ENACt7Lkh7GS"
      }
    },
    {
      "cell_type": "markdown",
      "source": [
        "\n",
        "\n",
        "> Country-Tailored Payment Strategies:\n",
        "*   Malaysia: Leverage high digital payment adoption by introducing premium card/wallet benefits\n",
        "*   Indonesia: Implement targeted incentives to shift from cash to digital payments\n",
        "*   Philippines & Singapore: Maintain balanced support across all payment methods\n",
        "\n"
      ],
      "metadata": {
        "id": "MCUIb2PWjks4"
      }
    },
    {
      "cell_type": "markdown",
      "source": [
        "#### **What product categories are popular with women and men separately?**"
      ],
      "metadata": {
        "id": "RKLJm2ZyoK8E"
      }
    },
    {
      "cell_type": "code",
      "source": [
        "# Grouping and counting the number of purchases per Gender and Category\n",
        "category_gender_counts = df.pivot_table(index='Category',\n",
        "                         columns='Gender',\n",
        "                         values='Receipt Number',\n",
        "                         aggfunc='count')\n",
        "\n",
        "category_gender_counts.plot(kind='bar', figsize=(12, 6), width=0.8)\n",
        "plt.title('Comparison of Product Categories by Gender')\n",
        "plt.xlabel('Product Category')\n",
        "plt.ylabel('Number of Purchases')\n",
        "plt.legend(title='Gender', loc='upper right')\n",
        "plt.grid(axis='y', linestyle='--', linewidth=0.7)\n",
        "plt.tight_layout()\n",
        "plt.show()"
      ],
      "metadata": {
        "id": "BQBr7l5tmYn7"
      },
      "execution_count": null,
      "outputs": []
    },
    {
      "cell_type": "markdown",
      "source": [
        "The graph \"Comparison of Product Categories by Gender\" reveals distinct purchasing patterns:\n",
        "\n",
        "1.   Female-Dominated Categories:\n",
        "\n",
        "\n",
        "*   Bakery & Breakfast: Strong female preference (55% vs. 39% male).\n",
        "\n",
        "*   Beauty Products: Overwhelmingly purchased by women (81% vs. 19% male).\n",
        "\n",
        "*   Health Products: Heavily female-skewed (84% vs. 16% male).\n",
        "\n",
        "*   Mother & Baby Products: Predictably dominated by women (84% vs. 16% male).\n",
        "\n",
        "2.   Male-Dominated Categories:\n",
        "\n",
        "\n",
        "\n",
        "*   Wines, Beers & Spirits: Strong male preference (67% vs. 33% female).\n",
        "*   Beverages: Skew male (65% vs. 35% female).\n",
        "*   Pet Care: Surprisingly male-dominated (68% vs. 32% female).\n",
        "\n",
        "3.   Gender-Neutral Categories:\n",
        "\n",
        "*   Household Items, Kitchen & Dining, and Rice & Cooking Essentials: Show relatively balanced purchasing patterns."
      ],
      "metadata": {
        "id": "rO-Cer0wsT9E"
      }
    },
    {
      "cell_type": "markdown",
      "source": [
        "### **What is the average number of loyalty points by age group?**"
      ],
      "metadata": {
        "id": "o_GkYdxnNDT8"
      }
    },
    {
      "cell_type": "code",
      "source": [
        "# Calculate average loyalty points by age group\n",
        "avg_loyalty_by_age = df.groupby('Age Group', observed=False)['Loyalty Card Points'].mean().reset_index()\n",
        "\n",
        "# Correlation between Age and Loyalty Card Points\n",
        "correlation = df['Age'].corr(df['Loyalty Card Points'])\n",
        "print(f\"Pearson Correlation between Age and Loyalty Card Points: {correlation:.2f}\")\n",
        "\n",
        "plt.figure(figsize=(10, 6))\n",
        "sns.barplot(x='Age Group', y='Loyalty Card Points', hue='Age Group', data=avg_loyalty_by_age, palette='viridis', legend=False)\n",
        "plt.title('Average Loyalty Card Points by Age Group')\n",
        "plt.xlabel('Age Group')\n",
        "plt.ylabel('Average Loyalty Card Points')\n",
        "plt.show()\n",
        "\n"
      ],
      "metadata": {
        "id": "uB8bl7WeLY89"
      },
      "execution_count": null,
      "outputs": []
    },
    {
      "cell_type": "markdown",
      "source": [
        "\n",
        "\n",
        "> Loyalty Engagement Patterns:\n",
        "\n",
        "*   Youngest customers (10-19) show highest loyalty card usage at ~19.8 points\n",
        "*   Middle-aged customers (40-49) demonstrate lowest engagement at ~17.2 points\n",
        "*   Older customers (50-59) rebound to high engagement at ~19.3 points\n",
        "*   Senior customers (60-79) maintain moderate but declining engagement (~16-16.7 points)\n",
        "*    Weak overall correlation (-0.02) indicates age alone doesn't predict loyalty behavior\n"
      ],
      "metadata": {
        "id": "JaxMN6HaPUVJ"
      }
    }
  ]
}